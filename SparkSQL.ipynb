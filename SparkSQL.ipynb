{
 "cells": [
  {
   "cell_type": "markdown",
   "metadata": {},
   "source": [
    "## Books Analysis Using Spark SQL"
   ]
  },
  {
   "cell_type": "code",
   "execution_count": 1,
   "metadata": {},
   "outputs": [],
   "source": [
    "import findspark\n",
    "findspark.init()\n",
    "from pyspark.sql import SparkSession"
   ]
  },
  {
   "cell_type": "code",
   "execution_count": 2,
   "metadata": {},
   "outputs": [],
   "source": [
    "spark = SparkSession \\\n",
    "    .builder \\\n",
    "    .appName(\"Books\") \\\n",
    "    .config(\"spark.some.config.option\", \"some-value\") \\\n",
    "    .getOrCreate()"
   ]
  },
  {
   "cell_type": "code",
   "execution_count": 3,
   "metadata": {},
   "outputs": [],
   "source": [
    "df = spark.read.csv(\"books.csv\",header=True,inferSchema= True,sep=\";\");\n",
    "df1 = spark.read.csv(\"ratings.csv\",header=True,sep=\";\");"
   ]
  },
  {
   "cell_type": "code",
   "execution_count": 4,
   "metadata": {},
   "outputs": [
    {
     "name": "stdout",
     "output_type": "stream",
     "text": [
      "+----------+--------------------+--------------------+-------------------+--------------------+--------------------+--------------------+--------------------+\n",
      "|      ISBN|          Book-Title|         Book-Author|Year-Of-Publication|           Publisher|         Image-URL-S|         Image-URL-M|         Image-URL-L|\n",
      "+----------+--------------------+--------------------+-------------------+--------------------+--------------------+--------------------+--------------------+\n",
      "|0195153448| Classical Mythology|  Mark P. O. Morford|               2002|Oxford University...|http://images.ama...|http://images.ama...|http://images.ama...|\n",
      "|0002005018|        Clara Callan|Richard Bruce Wright|               2001|HarperFlamingo Ca...|http://images.ama...|http://images.ama...|http://images.ama...|\n",
      "|0060973129|Decision in Normandy|        Carlo D'Este|               1991|     HarperPerennial|http://images.ama...|http://images.ama...|http://images.ama...|\n",
      "|0374157065|Flu: The Story of...|    Gina Bari Kolata|               1999|Farrar Straus Giroux|http://images.ama...|http://images.ama...|http://images.ama...|\n",
      "|0393045218|The Mummies of Ur...|     E. J. W. Barber|               1999|W. W. Norton &amp...|http://images.ama...|http://images.ama...|http://images.ama...|\n",
      "+----------+--------------------+--------------------+-------------------+--------------------+--------------------+--------------------+--------------------+\n",
      "only showing top 5 rows\n",
      "\n"
     ]
    }
   ],
   "source": [
    "df.show(5)"
   ]
  },
  {
   "cell_type": "code",
   "execution_count": 5,
   "metadata": {},
   "outputs": [
    {
     "name": "stdout",
     "output_type": "stream",
     "text": [
      "+-------+----------+-----------+\n",
      "|User-ID|      ISBN|Book-Rating|\n",
      "+-------+----------+-----------+\n",
      "| 276725|034545104X|          0|\n",
      "| 276726|0155061224|          5|\n",
      "| 276727|0446520802|          0|\n",
      "| 276729|052165615X|          3|\n",
      "| 276729|0521795028|          6|\n",
      "+-------+----------+-----------+\n",
      "only showing top 5 rows\n",
      "\n"
     ]
    }
   ],
   "source": [
    "df1.show(5)"
   ]
  },
  {
   "cell_type": "code",
   "execution_count": 6,
   "metadata": {},
   "outputs": [],
   "source": [
    "df.createOrReplaceTempView(\"books\") \n",
    "df1.createOrReplaceTempView(\"ratings\") "
   ]
  },
  {
   "cell_type": "code",
   "execution_count": 7,
   "metadata": {},
   "outputs": [
    {
     "name": "stdout",
     "output_type": "stream",
     "text": [
      "root\n",
      " |-- User-ID: string (nullable = true)\n",
      " |-- ISBN: string (nullable = true)\n",
      " |-- Book-Rating: string (nullable = true)\n",
      "\n"
     ]
    }
   ],
   "source": [
    "df1.printSchema()"
   ]
  },
  {
   "cell_type": "markdown",
   "metadata": {},
   "source": [
    "### Highest number of books released per year"
   ]
  },
  {
   "cell_type": "code",
   "execution_count": 8,
   "metadata": {},
   "outputs": [
    {
     "name": "stdout",
     "output_type": "stream",
     "text": [
      "+-------------------+--------+\n",
      "|Year-Of-Publication|no_books|\n",
      "+-------------------+--------+\n",
      "|               2002|   17628|\n",
      "|               1999|   17432|\n",
      "|               2001|   17360|\n",
      "|               2000|   17235|\n",
      "|               1998|   15767|\n",
      "|               1997|   14892|\n",
      "|               2003|   14359|\n",
      "|               1996|   14031|\n",
      "|               1995|   13548|\n",
      "|               1994|   11796|\n",
      "|               1993|   10602|\n",
      "|               1992|    9906|\n",
      "|               1991|    9389|\n",
      "|               1990|    8661|\n",
      "|               1989|    7937|\n",
      "|               1988|    7493|\n",
      "|               1987|    6529|\n",
      "|               1986|    5841|\n",
      "|               2004|    5839|\n",
      "|               1985|    5343|\n",
      "+-------------------+--------+\n",
      "only showing top 20 rows\n",
      "\n"
     ]
    }
   ],
   "source": [
    "spark.sql(\"SELECT `Year-Of-Publication`,COUNT(*) as no_books FROM books GROUP BY `Year-Of-Publication` \\\n",
    "ORDER BY COUNT(*) DESC; \").show()"
   ]
  },
  {
   "cell_type": "markdown",
   "metadata": {},
   "source": [
    "### List of recently published books"
   ]
  },
  {
   "cell_type": "code",
   "execution_count": 9,
   "metadata": {},
   "outputs": [
    {
     "name": "stdout",
     "output_type": "stream",
     "text": [
      "+----------+--------------------+--------------------+-------------------+--------------------+\n",
      "|      ISBN|          Book-Title|         Book-Author|Year-Of-Publication|           Publisher|\n",
      "+----------+--------------------+--------------------+-------------------+--------------------+\n",
      "|0307124533|Owl's Amazing but...|        Owl Magazine|               2012|        Golden Books|\n",
      "|0394172116|Monkey (An Evergr...|         Cheng-En Wu|               2011|         Grove Press|\n",
      "|0380816792|    A Rose in Winter|Kathleen E. Woodi...|               2011|Harper Mass Marke...|\n",
      "|0743474198|        Heartbreaker|       Julie Garwood|               2010|              Pocket|\n",
      "|0743457226|         Deep Waters|    Jayne Ann Krentz|               2010|              Pocket|\n",
      "|074349346X|Angels &amp; Demo...|           Dan Brown|               2008|Washington Square...|\n",
      "|0743448987|Memoirs of an Unf...|       Anne Robinson|               2006|        Pocket Books|\n",
      "|1903436346|The Winter's Tale...|        John Pitcher|               2006|               Arden|\n",
      "|0743456874|Nip 'n' Tuck : A ...|         Kathy Lette|               2006|Washington Square...|\n",
      "|0618441433|Josie and Jack : ...|       Kelly Braffet|               2005|       Mariner Books|\n",
      "|0743484894|The Winter's Tale...| William Shakespeare|               2005|Washington Square...|\n",
      "|0374103747|In My Brother's S...|            Uwe Timm|               2005|Farrar, Straus an...|\n",
      "|1582344574|Ninth Life of Lou...|          Liz Jensen|               2005|      Bloomsbury USA|\n",
      "|0141002980|Moonraker (James ...|         Ian Fleming|               2005|   Penguin Books Ltd|\n",
      "|0316156108| The Ha-Ha : A Novel|           Dave King|               2005|       Little, Brown|\n",
      "|0060738189|             Serpico|          Peter Maas|               2005|           Perennial|\n",
      "|0753820099|               Snobs|     Julian Fellowes|               2005|Phoenix mass mark...|\n",
      "|0385732376| The Illustrated Mum|   JACQUELINE WILSON|               2005|Delacorte Books f...|\n",
      "|0802714277|Astro Turf: The P...|          M. G. Lord|               2005|Walker &amp; Company|\n",
      "|0385338082|Can You Keep a Se...|     SOPHIE KINSELLA|               2005|               Delta|\n",
      "+----------+--------------------+--------------------+-------------------+--------------------+\n",
      "only showing top 20 rows\n",
      "\n"
     ]
    }
   ],
   "source": [
    "spark.sql(\"SELECT ISBN, `Book-Title`, `Book-Author`, `Year-Of-Publication`, `Publisher` FROM books \\\n",
    "WHERE `Year-Of-Publication` < 2020 ORDER BY `Year-Of-Publication` DESC; \").show()"
   ]
  },
  {
   "cell_type": "markdown",
   "metadata": {},
   "source": [
    "### List of oldest published books "
   ]
  },
  {
   "cell_type": "code",
   "execution_count": 10,
   "metadata": {},
   "outputs": [
    {
     "name": "stdout",
     "output_type": "stream",
     "text": [
      "+----------+--------------------+--------------------+-------------------+--------------------+\n",
      "|      ISBN|          Book-Title|         Book-Author|Year-Of-Publication|           Publisher|\n",
      "+----------+--------------------+--------------------+-------------------+--------------------+\n",
      "|964442011X|        Tasht-i khun|       Isma°il Fasih|               1376|      Nashr-i Alburz|\n",
      "|9643112136|Dalan-i bihisht (...|         Nazi Safavi|               1378| Intisharat-i Quqnus|\n",
      "|0781228956|Complete Works 10...|   Benjamin Franklin|               1806|Reprint Services ...|\n",
      "|0781268001|Hugh Wynne, Free ...| Silas Weir Mitchell|               1897|Reprint Services ...|\n",
      "|1551103982|The Cycling Adven...|         Ted Schredd|               1900|Graphic Arts Cent...|\n",
      "|B00009NDBF|Help Yourself: Ce...|     David J. Pelzer|               1900|          E P Dutton|\n",
      "|B0000VZEFK|Is That a Gun in ...|   Rachel Abramowitz|               1900|        Random House|\n",
      "|0671407104|  LAST TEMP CHRISTCL|   Nikos Kazantzakis|               1901|Simon &amp; Schuster|\n",
      "|0671825356|      W D HSE PLANTS|           Jd Hersey|               1901|Simon &amp; Schuster|\n",
      "|0671068350|    BASIC WRTNG RUSL|Bertrand Russell ...|               1901|Simon &amp; Schuster|\n",
      "|0671493310|  MOST SJ PERELMAN P|       S.J. Perelman|               1901|            Fireside|\n",
      "|0671397214|  JOY OF MUSIC     P|   Leonard Bernstein|               1901|            Fireside|\n",
      "|0671189506|  DALE CRNEGIE SCRPB|    Dorothy Carnegie|               1901|Simon &amp; Schuster|\n",
      "|0671729012|  THURBER COUNTRY  P|       James Thurber|               1901|          Touchstone|\n",
      "|0841499306|Charlotte Bronte,...|    Henry H. Bonnell|               1902|Folcroft Library ...|\n",
      "|0373226888|         Tommy's Mom|   Linda O. Johnston|               1902|           Harlequin|\n",
      "|038528120X|            CATCH 22|       JOSEPH HELLER|               1904|               Delta|\n",
      "|0404089119|Charlotte Bronte ...|  Clement K. Shorter|               1906|              Ams Pr|\n",
      "|0911662251|Kybalion: A Study...|     Three Initiates|               1908|Yoga Publication ...|\n",
      "|0525472428|Meetings With Rem...|       G I Gurdjieff|               1909|Penguin Putnam~ch...|\n",
      "+----------+--------------------+--------------------+-------------------+--------------------+\n",
      "only showing top 20 rows\n",
      "\n"
     ]
    }
   ],
   "source": [
    "spark.sql(\"SELECT ISBN, `Book-Title`, `Book-Author`, `Year-Of-Publication`, `Publisher` FROM books \\\n",
    "WHERE `Year-Of-Publication` >0 ORDER BY `Year-Of-Publication` ; \").show() "
   ]
  },
  {
   "cell_type": "markdown",
   "metadata": {},
   "source": [
    "### Most Popular Books"
   ]
  },
  {
   "cell_type": "code",
   "execution_count": 11,
   "metadata": {},
   "outputs": [
    {
     "name": "stdout",
     "output_type": "stream",
     "text": [
      "+----------+--------------------+----------+\n",
      "|      ISBN|          Book-Title|no_ratings|\n",
      "+----------+--------------------+----------+\n",
      "|0971880107|         Wild Animus|      2502|\n",
      "|0316666343|The Lovely Bones:...|      1295|\n",
      "|0385504209|   The Da Vinci Code|       883|\n",
      "|0060928336|Divine Secrets of...|       732|\n",
      "|0312195516|The Red Tent (Bes...|       723|\n",
      "|044023722X|     A Painted House|       647|\n",
      "|0142001740|The Secret Life o...|       615|\n",
      "|067976402X|Snow Falling on C...|       614|\n",
      "|0671027360| Angels &amp; Demons|       586|\n",
      "|0446672211|Where the Heart I...|       585|\n",
      "|059035342X|Harry Potter and ...|       571|\n",
      "|0316601950|The Pilot's Wife ...|       568|\n",
      "|0375727345|House of Sand and...|       552|\n",
      "|044021145X|            The Firm|       529|\n",
      "|0452282152|Girl with a Pearl...|       526|\n",
      "|0440214041|   The Pelican Brief|       523|\n",
      "|0804106304|   The Joy Luck Club|       519|\n",
      "|0440211727|      A Time to Kill|       517|\n",
      "|0345337662|Interview with th...|       506|\n",
      "|0060930535|The Poisonwood Bi...|       494|\n",
      "+----------+--------------------+----------+\n",
      "only showing top 20 rows\n",
      "\n"
     ]
    }
   ],
   "source": [
    "spark.sql(\"SELECT r.ISBN, `Book-Title`, count(*) as no_ratings FROM ratings r , books b WHERE r.ISBN = b.ISBN  \\\n",
    " group by r.ISBN, `Book-Title` ORDER BY count(*) DESC; \").show() "
   ]
  },
  {
   "cell_type": "markdown",
   "metadata": {},
   "source": [
    "### Total Rating"
   ]
  },
  {
   "cell_type": "code",
   "execution_count": 12,
   "metadata": {},
   "outputs": [
    {
     "name": "stdout",
     "output_type": "stream",
     "text": [
      "+----------+--------------------+-------------+\n",
      "|      ISBN|          Book-Title|total_ratings|\n",
      "+----------+--------------------+-------------+\n",
      "|0316666343|The Lovely Bones:...|       5787.0|\n",
      "|0385504209|   The Da Vinci Code|       4108.0|\n",
      "|0312195516|The Red Tent (Bes...|       3134.0|\n",
      "|059035342X|Harry Potter and ...|       2798.0|\n",
      "|0142001740|The Secret Life o...|       2595.0|\n",
      "|0971880107|         Wild Animus|       2551.0|\n",
      "|0060928336|Divine Secrets of...|       2524.0|\n",
      "|0446672211|Where the Heart I...|       2402.0|\n",
      "|0452282152|Girl with a Pearl...|       2219.0|\n",
      "|0671027360| Angels &amp; Demons|       2179.0|\n",
      "|044023722X|     A Painted House|       2062.0|\n",
      "|0316601950|The Pilot's Wife ...|       2041.0|\n",
      "|067976402X|Snow Falling on C...|       1999.0|\n",
      "|0786868716|The Five People Y...|       1940.0|\n",
      "|0446310786|To Kill a Mocking...|       1914.0|\n",
      "|0743418174|         Good in Bed|       1899.0|\n",
      "|0316769487|The Catcher in th...|       1868.0|\n",
      "|043935806X|Harry Potter and ...|       1861.0|\n",
      "|0156027321|          Life of Pi|       1815.0|\n",
      "|0345337662|Interview with th...|       1789.0|\n",
      "+----------+--------------------+-------------+\n",
      "only showing top 20 rows\n",
      "\n"
     ]
    }
   ],
   "source": [
    "spark.sql(\"SELECT r.ISBN, `Book-Title`, sum(r.`Book-Rating`) as total_ratings FROM ratings r , books b WHERE r.ISBN = b.ISBN  \\\n",
    " group by r.ISBN, `Book-Title` ORDER BY sum(r.`Book-Rating`) DESC; \").show() "
   ]
  },
  {
   "cell_type": "markdown",
   "metadata": {},
   "source": [
    "### Average Ratings "
   ]
  },
  {
   "cell_type": "code",
   "execution_count": 13,
   "metadata": {},
   "outputs": [
    {
     "name": "stdout",
     "output_type": "stream",
     "text": [
      "+----------+--------------------+-----------+----------+\n",
      "|      ISBN|          Book-Title|avg_ratings|no_ratings|\n",
      "+----------+--------------------+-----------+----------+\n",
      "|0399151788|        Dark Justice|       10.0|         1|\n",
      "|0718143728|        \"Blackadder\"|       10.0|         1|\n",
      "|0752201875|\"Cracker\": the Tr...|       10.0|         1|\n",
      "|0310591635|        \"Follow Me!\"|       10.0|         1|\n",
      "|0698301978|\"I Can't\" Said th...|       10.0|         1|\n",
      "|1561705357|\"Life Was Never M...|       10.0|         1|\n",
      "|2277302910|\"Soleil De Soufre...|       10.0|         1|\n",
      "|0747235732|\"The House of Cth...|       10.0|         1|\n",
      "|0306811103|\"Unsinkable\": The...|       10.0|         1|\n",
      "|0312113536|\"You're Okay, It'...|       10.0|         1|\n",
      "|0941925196|'California Histo...|       10.0|         1|\n",
      "|0854098089|'Isms: a dictiona...|       10.0|         1|\n",
      "|0842371907|'Round the Corner...|       10.0|         1|\n",
      "|2266022253|006781: Bk.1 Gags...|       10.0|         1|\n",
      "|0789447096|1,000 Makers of t...|       10.0|         1|\n",
      "|0762103388|1,001 Computer Hi...|       10.0|         1|\n",
      "|0385244320|1,001 Things Ever...|       10.0|         2|\n",
      "|0804107572|1,001 Ways to Sav...|       10.0|         1|\n",
      "|0590599313|10 American Histo...|       10.0|         1|\n",
      "|3502145229|10 Gebote f�?¼r a...|       10.0|         1|\n",
      "+----------+--------------------+-----------+----------+\n",
      "only showing top 20 rows\n",
      "\n"
     ]
    }
   ],
   "source": [
    "spark.sql(\"SELECT r.ISBN, `Book-Title`, avg(r.`Book-Rating`) as avg_ratings,count(*) as no_ratings FROM ratings r , books b \\\n",
    "          WHERE r.ISBN = b.ISBN group by r.ISBN, `Book-Title` ORDER BY avg(r.`Book-Rating`) DESC, `Book-Title` ;\").show()"
   ]
  }
 ],
 "metadata": {
  "kernelspec": {
   "display_name": "Python 3",
   "language": "python",
   "name": "python3"
  },
  "language_info": {
   "codemirror_mode": {
    "name": "ipython",
    "version": 3
   },
   "file_extension": ".py",
   "mimetype": "text/x-python",
   "name": "python",
   "nbconvert_exporter": "python",
   "pygments_lexer": "ipython3",
   "version": "3.7.4"
  }
 },
 "nbformat": 4,
 "nbformat_minor": 2
}
