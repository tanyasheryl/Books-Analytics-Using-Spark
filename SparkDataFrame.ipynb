{
 "cells": [
  {
   "cell_type": "markdown",
   "metadata": {},
   "source": [
    "## Books Analysis Using Spark DataFrames"
   ]
  },
  {
   "cell_type": "code",
   "execution_count": 1,
   "metadata": {},
   "outputs": [],
   "source": [
    "import findspark\n",
    "findspark.init()\n",
    "from pyspark import SparkContext\n",
    "from pyspark.sql import SparkSession\n",
    "from pyspark.sql.functions import *"
   ]
  },
  {
   "cell_type": "code",
   "execution_count": 2,
   "metadata": {},
   "outputs": [],
   "source": [
    "spark = SparkSession \\\n",
    "    .builder \\\n",
    "    .appName(\"Books\") \\\n",
    "    .config(\"spark.some.config.option\", \"some-value\") \\\n",
    "    .getOrCreate()"
   ]
  },
  {
   "cell_type": "code",
   "execution_count": 3,
   "metadata": {},
   "outputs": [],
   "source": [
    "df = spark.read.csv(\"books.csv\",header=True,inferSchema= True,sep=\";\");\n",
    "df1 = spark.read.csv(\"ratings.csv\",header=True,sep=\";\");\n",
    "df = df.drop('Image-URL-S')\n",
    "df = df.drop('Image-URL-M')\n",
    "df = df.drop('Image-URL-L')"
   ]
  },
  {
   "cell_type": "code",
   "execution_count": 4,
   "metadata": {},
   "outputs": [
    {
     "name": "stdout",
     "output_type": "stream",
     "text": [
      "+----------+--------------------+--------------------+-------------------+--------------------+\n",
      "|      ISBN|          Book-Title|         Book-Author|Year-Of-Publication|           Publisher|\n",
      "+----------+--------------------+--------------------+-------------------+--------------------+\n",
      "|0195153448| Classical Mythology|  Mark P. O. Morford|               2002|Oxford University...|\n",
      "|0002005018|        Clara Callan|Richard Bruce Wright|               2001|HarperFlamingo Ca...|\n",
      "|0060973129|Decision in Normandy|        Carlo D'Este|               1991|     HarperPerennial|\n",
      "|0374157065|Flu: The Story of...|    Gina Bari Kolata|               1999|Farrar Straus Giroux|\n",
      "|0393045218|The Mummies of Ur...|     E. J. W. Barber|               1999|W. W. Norton &amp...|\n",
      "|0399135782|The Kitchen God's...|             Amy Tan|               1991|    Putnam Pub Group|\n",
      "|0425176428|What If?: The Wor...|       Robert Cowley|               2000|Berkley Publishin...|\n",
      "|0671870432|     PLEADING GUILTY|         Scott Turow|               1993|          Audioworks|\n",
      "|0679425608|Under the Black F...|     David Cordingly|               1996|        Random House|\n",
      "|074322678X|Where You'll Find...|         Ann Beattie|               2002|            Scribner|\n",
      "|0771074670|Nights Below Stat...|David Adams Richards|               1988|     Emblem Editions|\n",
      "|080652121X|Hitler's Secret B...|          Adam Lebor|               2000|       Citadel Press|\n",
      "|0887841740|  The Middle Stories|         Sheila Heti|               2004|House of Anansi P...|\n",
      "|1552041778|            Jane Doe|        R. J. Kaiser|               1999|          Mira Books|\n",
      "|1558746218|A Second Chicken ...|       Jack Canfield|               1998|Health Communicat...|\n",
      "|1567407781|The Witchfinder (...|   Loren D. Estleman|               1998|Brilliance Audio ...|\n",
      "|1575663937|More Cunning Than...|  Robert Hendrickson|               1999|Kensington Publis...|\n",
      "|1881320189|Goodbye to the Bu...|        Julia Oliver|               1994|      River City Pub|\n",
      "|0440234743|       The Testament|        John Grisham|               1999|                Dell|\n",
      "|0452264464|Beloved (Plume Co...|       Toni Morrison|               1994|               Plume|\n",
      "+----------+--------------------+--------------------+-------------------+--------------------+\n",
      "only showing top 20 rows\n",
      "\n"
     ]
    }
   ],
   "source": [
    "df.show()"
   ]
  },
  {
   "cell_type": "markdown",
   "metadata": {},
   "source": [
    "### Ratings for each book"
   ]
  },
  {
   "cell_type": "code",
   "execution_count": 5,
   "metadata": {},
   "outputs": [
    {
     "name": "stdout",
     "output_type": "stream",
     "text": [
      "+----------+-----+--------------------+------------------+-------------------+--------------------+\n",
      "|      ISBN|count|          Book-Title|       Book-Author|Year-Of-Publication|           Publisher|\n",
      "+----------+-----+--------------------+------------------+-------------------+--------------------+\n",
      "|0971880107| 2502|         Wild Animus|      Rich Shapero|               2004|             Too Far|\n",
      "|0316666343| 1295|The Lovely Bones:...|      Alice Sebold|               2002|       Little, Brown|\n",
      "|0385504209|  883|   The Da Vinci Code|         Dan Brown|               2003|           Doubleday|\n",
      "|0060928336|  732|Divine Secrets of...|     Rebecca Wells|               1997|           Perennial|\n",
      "|0312195516|  723|The Red Tent (Bes...|     Anita Diamant|               1998|         Picador USA|\n",
      "|044023722X|  647|     A Painted House|      John Grisham|               2001|Dell Publishing C...|\n",
      "|0142001740|  615|The Secret Life o...|     Sue Monk Kidd|               2003|       Penguin Books|\n",
      "|067976402X|  614|Snow Falling on C...|    David Guterson|               1995|   Vintage Books USA|\n",
      "|0671027360|  586| Angels &amp; Demons|         Dan Brown|               2001|         Pocket Star|\n",
      "|0446672211|  585|Where the Heart I...|      Billie Letts|               1998|        Warner Books|\n",
      "|059035342X|  571|Harry Potter and ...|     J. K. Rowling|               1999|Arthur A. Levine ...|\n",
      "|0316601950|  568|The Pilot's Wife ...|      Anita Shreve|               1999|      Back Bay Books|\n",
      "|0375727345|  552|House of Sand and...|   Andre Dubus III|               2000|       Vintage Books|\n",
      "|044021145X|  529|            The Firm|      John Grisham|               1992|Bantam Dell Publi...|\n",
      "|0452282152|  526|Girl with a Pearl...|   Tracy Chevalier|               2001|         Plume Books|\n",
      "|0440214041|  523|   The Pelican Brief|      John Grisham|               1993|                Dell|\n",
      "|0804106304|  519|   The Joy Luck Club|           Amy Tan|               1994|Prentice Hall (K-12)|\n",
      "|0440211727|  517|      A Time to Kill|      JOHN GRISHAM|               1992|                Dell|\n",
      "|0345337662|  506|Interview with th...|         Anne Rice|               1993|    Ballantine Books|\n",
      "|0060930535|  494|The Poisonwood Bi...|Barbara Kingsolver|               1999|           Perennial|\n",
      "+----------+-----+--------------------+------------------+-------------------+--------------------+\n",
      "only showing top 20 rows\n",
      "\n"
     ]
    }
   ],
   "source": [
    "df1.groupBy(\"ISBN\").count().join(df, on='ISBN').orderBy(desc(\"count\")).show()"
   ]
  },
  {
   "cell_type": "markdown",
   "metadata": {},
   "source": [
    "### Books with Maximum versions"
   ]
  },
  {
   "cell_type": "markdown",
   "metadata": {},
   "source": [
    "A book  has different versions with respect to the Publisher, editions like Hardcover, Paperback and Revised editions. Each version will have a different ISBN. This finds the books with highest number of versions. "
   ]
  },
  {
   "cell_type": "code",
   "execution_count": 6,
   "metadata": {},
   "outputs": [
    {
     "name": "stdout",
     "output_type": "stream",
     "text": [
      "+--------------------+-----+\n",
      "|          Book-Title|count|\n",
      "+--------------------+-----+\n",
      "|      Selected Poems|   27|\n",
      "|        Little Women|   24|\n",
      "|   Wuthering Heights|   21|\n",
      "|             Dracula|   20|\n",
      "|   The Secret Garden|   20|\n",
      "|Adventures of Huc...|   20|\n",
      "|           Jane Eyre|   19|\n",
      "|The Night Before ...|   18|\n",
      "| Pride and Prejudice|   18|\n",
      "|  Great Expectations|   17|\n",
      "|        Frankenstein|   16|\n",
      "|          Masquerade|   16|\n",
      "|        Black Beauty|   16|\n",
      "|             Beloved|   15|\n",
      "|            The Gift|   15|\n",
      "|                Emma|   15|\n",
      "|             Nemesis|   14|\n",
      "|          Psychology|   13|\n",
      "|          The Secret|   13|\n",
      "|     Robinson Crusoe|   13|\n",
      "+--------------------+-----+\n",
      "only showing top 20 rows\n",
      "\n"
     ]
    }
   ],
   "source": [
    "df.groupBy(\"Book-Title\").count().orderBy(desc(\"count\")).show()"
   ]
  },
  {
   "cell_type": "markdown",
   "metadata": {},
   "source": [
    "### Publishers with Highest no of Books released"
   ]
  },
  {
   "cell_type": "code",
   "execution_count": 7,
   "metadata": {},
   "outputs": [
    {
     "name": "stdout",
     "output_type": "stream",
     "text": [
      "+--------------------+-----+\n",
      "|           Publisher|count|\n",
      "+--------------------+-----+\n",
      "|           Harlequin| 7536|\n",
      "|          Silhouette| 4220|\n",
      "|              Pocket| 3905|\n",
      "|    Ballantine Books| 3783|\n",
      "|        Bantam Books| 3647|\n",
      "|          Scholastic| 3160|\n",
      "|Simon &amp; Schuster| 2971|\n",
      "|       Penguin Books| 2844|\n",
      "|Berkley Publishin...| 2771|\n",
      "|        Warner Books| 2727|\n",
      "|         Penguin USA| 2717|\n",
      "|       Harpercollins| 2526|\n",
      "|       Fawcett Books| 2258|\n",
      "|         Signet Book| 2070|\n",
      "|    Random House Inc| 2045|\n",
      "|       St Martins Pr| 1953|\n",
      "|  St. Martin's Press| 1783|\n",
      "|           Tor Books| 1704|\n",
      "|HarperCollins Pub...| 1701|\n",
      "|         Zebra Books| 1694|\n",
      "+--------------------+-----+\n",
      "only showing top 20 rows\n",
      "\n"
     ]
    }
   ],
   "source": [
    "df.groupBy(\"Publisher\").count().orderBy(desc(\"count\")).show()"
   ]
  },
  {
   "cell_type": "markdown",
   "metadata": {},
   "source": [
    "### Publishers with Highest Average Ratings"
   ]
  },
  {
   "cell_type": "code",
   "execution_count": 8,
   "metadata": {},
   "outputs": [
    {
     "name": "stdout",
     "output_type": "stream",
     "text": [
      "+--------------------+--------------+----------------+\n",
      "|           Publisher|Average_Rating|count(Publisher)|\n",
      "+--------------------+--------------+----------------+\n",
      "|          Glen Adams|          10.0|               1|\n",
      "|Scribes Valley Pu...|          10.0|               1|\n",
      "|           Jugglebug|          10.0|               1|\n",
      "|                XAOX|          10.0|               1|\n",
      "|         Hermetic Pr|          10.0|               3|\n",
      "|McGallen &amp; Bo...|          10.0|               1|\n",
      "|      Dartnell Corp.|          10.0|               1|\n",
      "|Macdonald and Jane's|          10.0|               2|\n",
      "|Joshua Odell Edit...|          10.0|               1|\n",
      "|Madinah Publisher...|          10.0|               1|\n",
      "|Rocky Mountain Na...|          10.0|               1|\n",
      "|  Stewart Publishing|          10.0|               1|\n",
      "|         Veritas Pub|          10.0|               4|\n",
      "|       Codhill Press|          10.0|               1|\n",
      "|         Paper Tiger|          10.0|               1|\n",
      "|              Bucher|          10.0|               2|\n",
      "|Pietsch-Verlag Pa...|          10.0|               1|\n",
      "|        Broadside Pr|          10.0|               1|\n",
      "|Cambridge Univ*@ ...|          10.0|               1|\n",
      "|        Bourget Bros|          10.0|               1|\n",
      "+--------------------+--------------+----------------+\n",
      "only showing top 20 rows\n",
      "\n"
     ]
    }
   ],
   "source": [
    "df.join(df1, df.ISBN == df1.ISBN) \\\n",
    "  .groupBy(df.Publisher).agg({\"Book-Rating\": \"avg\", \"Publisher\" :\"count\"}).withColumnRenamed(\"avg(Book-Rating)\", \"Average_Rating\")\\\n",
    "  .orderBy(desc(\"Average_Rating\")).show()"
   ]
  },
  {
   "cell_type": "markdown",
   "metadata": {},
   "source": [
    "The results show that most books with the highest average rating has just one rating. So this may not be the best criteria to evaluate the books content."
   ]
  },
  {
   "cell_type": "markdown",
   "metadata": {},
   "source": [
    "### Publishers with Highest Total Ratings"
   ]
  },
  {
   "cell_type": "code",
   "execution_count": 9,
   "metadata": {},
   "outputs": [
    {
     "name": "stdout",
     "output_type": "stream",
     "text": [
      "+--------------------+------------+----------------+\n",
      "|           Publisher|Total_Rating|count(Publisher)|\n",
      "+--------------------+------------+----------------+\n",
      "|    Ballantine Books|     97269.0|           34724|\n",
      "|              Pocket|     79930.0|           31989|\n",
      "|Berkley Publishin...|     69384.0|           28614|\n",
      "|        Warner Books|     68134.0|           25506|\n",
      "|              Bantam|     57564.0|           20007|\n",
      "|        Bantam Books|     54932.0|           23600|\n",
      "|       Penguin Books|     54572.0|           17033|\n",
      "|         Signet Book|     51431.0|           19155|\n",
      "|           Perennial|     45129.0|           13466|\n",
      "|                Avon|     42469.0|           17352|\n",
      "|   Vintage Books USA|     36407.0|           11426|\n",
      "|          Jove Books|     36353.0|           15178|\n",
      "|           Harlequin|     36037.0|           25029|\n",
      "|                Dell|     34480.0|           13924|\n",
      "|          Scholastic|     33493.0|           13662|\n",
      "|         HarperTorch|     31778.0|           12081|\n",
      "|Dell Publishing C...|     31455.0|           12733|\n",
      "|Simon &amp; Schuster|     29738.0|           10318|\n",
      "|       Fawcett Books|     27339.0|           12905|\n",
      "|  St. Martin's Press|     26214.0|            9516|\n",
      "+--------------------+------------+----------------+\n",
      "only showing top 20 rows\n",
      "\n"
     ]
    }
   ],
   "source": [
    "df.join(df1, df.ISBN == df1.ISBN) \\\n",
    "  .groupBy(df.Publisher).agg({\"Book-Rating\": \"sum\",\"Publisher\" :\"count\"}) \\\n",
    "  .withColumnRenamed(\"sum(Book-Rating)\", \"Total_Rating\") \\\n",
    "  .orderBy(desc(\"Total_Rating\")).show()"
   ]
  },
  {
   "cell_type": "markdown",
   "metadata": {},
   "source": [
    "### Authors with Highest no of books"
   ]
  },
  {
   "cell_type": "code",
   "execution_count": 10,
   "metadata": {},
   "outputs": [
    {
     "name": "stdout",
     "output_type": "stream",
     "text": [
      "+--------------------+-----+\n",
      "|         Book-Author|count|\n",
      "+--------------------+-----+\n",
      "|     Agatha Christie|  632|\n",
      "| William Shakespeare|  567|\n",
      "|        Stephen King|  524|\n",
      "|       Ann M. Martin|  423|\n",
      "|     Francine Pascal|  373|\n",
      "|       Carolyn Keene|  373|\n",
      "|        Isaac Asimov|  330|\n",
      "|        Nora Roberts|  315|\n",
      "|    Barbara Cartland|  307|\n",
      "|     Charles Dickens|  302|\n",
      "|Not Applicable (Na )|  286|\n",
      "|         R. L. Stine|  282|\n",
      "|          Mark Twain|  231|\n",
      "|         Jane Austen|  223|\n",
      "|     Terry Pratchett|  220|\n",
      "|  Mary Higgins Clark|  218|\n",
      "|       Piers Anthony|  217|\n",
      "|Marion Zimmer Bra...|  216|\n",
      "|        Janet Dailey|  214|\n",
      "|   Franklin W. Dixon|  204|\n",
      "+--------------------+-----+\n",
      "only showing top 20 rows\n",
      "\n"
     ]
    }
   ],
   "source": [
    "df.groupBy(\"Book-Author\").count().orderBy(desc(\"count\")).show()"
   ]
  }
 ],
 "metadata": {
  "kernelspec": {
   "display_name": "Python 3",
   "language": "python",
   "name": "python3"
  },
  "language_info": {
   "codemirror_mode": {
    "name": "ipython",
    "version": 3
   },
   "file_extension": ".py",
   "mimetype": "text/x-python",
   "name": "python",
   "nbconvert_exporter": "python",
   "pygments_lexer": "ipython3",
   "version": "3.7.4"
  }
 },
 "nbformat": 4,
 "nbformat_minor": 2
}
